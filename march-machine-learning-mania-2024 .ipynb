{
 "cells": [
  {
   "cell_type": "code",
   "execution_count": 1,
   "id": "3d2e38cb",
   "metadata": {
    "_cell_guid": "b1076dfc-b9ad-4769-8c92-a6c4dae69d19",
    "_uuid": "8f2839f25d086af736a60e9eeb907d3b93b6e0e5",
    "execution": {
     "iopub.execute_input": "2024-04-02T03:20:27.094593Z",
     "iopub.status.busy": "2024-04-02T03:20:27.094109Z",
     "iopub.status.idle": "2024-04-02T03:20:28.081396Z",
     "shell.execute_reply": "2024-04-02T03:20:28.080250Z"
    },
    "papermill": {
     "duration": 1.000509,
     "end_time": "2024-04-02T03:20:28.084435",
     "exception": false,
     "start_time": "2024-04-02T03:20:27.083926",
     "status": "completed"
    },
    "tags": []
   },
   "outputs": [
    {
     "name": "stdout",
     "output_type": "stream",
     "text": [
      "/kaggle/input/march-machine-learning-mania-2024/Conferences.csv\n",
      "/kaggle/input/march-machine-learning-mania-2024/sample_submission.csv\n",
      "/kaggle/input/march-machine-learning-mania-2024/WNCAATourneyDetailedResults.csv\n",
      "/kaggle/input/march-machine-learning-mania-2024/WRegularSeasonCompactResults.csv\n",
      "/kaggle/input/march-machine-learning-mania-2024/MNCAATourneySeedRoundSlots.csv\n",
      "/kaggle/input/march-machine-learning-mania-2024/MRegularSeasonDetailedResults.csv\n",
      "/kaggle/input/march-machine-learning-mania-2024/MNCAATourneyCompactResults.csv\n",
      "/kaggle/input/march-machine-learning-mania-2024/MGameCities.csv\n",
      "/kaggle/input/march-machine-learning-mania-2024/WGameCities.csv\n",
      "/kaggle/input/march-machine-learning-mania-2024/MSeasons.csv\n",
      "/kaggle/input/march-machine-learning-mania-2024/WNCAATourneySlots.csv\n",
      "/kaggle/input/march-machine-learning-mania-2024/MSecondaryTourneyTeams.csv\n",
      "/kaggle/input/march-machine-learning-mania-2024/2024_tourney_seeds.csv\n",
      "/kaggle/input/march-machine-learning-mania-2024/Cities.csv\n",
      "/kaggle/input/march-machine-learning-mania-2024/MTeamSpellings.csv\n",
      "/kaggle/input/march-machine-learning-mania-2024/MRegularSeasonCompactResults.csv\n",
      "/kaggle/input/march-machine-learning-mania-2024/MSecondaryTourneyCompactResults.csv\n",
      "/kaggle/input/march-machine-learning-mania-2024/WTeams.csv\n",
      "/kaggle/input/march-machine-learning-mania-2024/MNCAATourneySlots.csv\n",
      "/kaggle/input/march-machine-learning-mania-2024/MNCAATourneySeeds.csv\n",
      "/kaggle/input/march-machine-learning-mania-2024/MMasseyOrdinals_thruSeason2024_day128.csv\n",
      "/kaggle/input/march-machine-learning-mania-2024/WNCAATourneyCompactResults.csv\n",
      "/kaggle/input/march-machine-learning-mania-2024/WSeasons.csv\n",
      "/kaggle/input/march-machine-learning-mania-2024/WNCAATourneySeeds.csv\n",
      "/kaggle/input/march-machine-learning-mania-2024/MTeamCoaches.csv\n",
      "/kaggle/input/march-machine-learning-mania-2024/MConferenceTourneyGames.csv\n",
      "/kaggle/input/march-machine-learning-mania-2024/WRegularSeasonDetailedResults.csv\n",
      "/kaggle/input/march-machine-learning-mania-2024/MNCAATourneyDetailedResults.csv\n",
      "/kaggle/input/march-machine-learning-mania-2024/WTeamSpellings.csv\n",
      "/kaggle/input/march-machine-learning-mania-2024/MTeamConferences.csv\n",
      "/kaggle/input/march-machine-learning-mania-2024/MTeams.csv\n",
      "/kaggle/input/march-machine-learning-mania-2024/WTeamConferences.csv\n"
     ]
    }
   ],
   "source": [
    "# This Python 3 environment comes with many helpful analytics libraries installed\n",
    "# It is defined by the kaggle/python Docker image: https://github.com/kaggle/docker-python\n",
    "# For example, here's several helpful packages to load\n",
    "\n",
    "import numpy as np # linear algebra\n",
    "import pandas as pd # data processing, CSV file I/O (e.g. pd.read_csv)\n",
    "\n",
    "# Input data files are available in the read-only \"../input/\" directory\n",
    "# For example, running this (by clicking run or pressing Shift+Enter) will list all files under the input directory\n",
    "\n",
    "import os\n",
    "for dirname, _, filenames in os.walk('/kaggle/input'):\n",
    "    for filename in filenames:\n",
    "        print(os.path.join(dirname, filename))\n",
    "\n",
    "# You can write up to 20GB to the current directory (/kaggle/working/) that gets preserved as output when you create a version using \"Save & Run All\" \n",
    "# You can also write temporary files to /kaggle/temp/, but they won't be saved outside of the current session"
   ]
  },
  {
   "cell_type": "code",
   "execution_count": 2,
   "id": "fd98c2db",
   "metadata": {
    "execution": {
     "iopub.execute_input": "2024-04-02T03:20:28.102863Z",
     "iopub.status.busy": "2024-04-02T03:20:28.101754Z",
     "iopub.status.idle": "2024-04-02T03:20:44.270023Z",
     "shell.execute_reply": "2024-04-02T03:20:44.268781Z"
    },
    "papermill": {
     "duration": 16.180606,
     "end_time": "2024-04-02T03:20:44.273026",
     "exception": false,
     "start_time": "2024-04-02T03:20:28.092420",
     "status": "completed"
    },
    "tags": []
   },
   "outputs": [
    {
     "name": "stderr",
     "output_type": "stream",
     "text": [
      "2024-04-02 03:20:32.499778: E external/local_xla/xla/stream_executor/cuda/cuda_dnn.cc:9261] Unable to register cuDNN factory: Attempting to register factory for plugin cuDNN when one has already been registered\n",
      "2024-04-02 03:20:32.499935: E external/local_xla/xla/stream_executor/cuda/cuda_fft.cc:607] Unable to register cuFFT factory: Attempting to register factory for plugin cuFFT when one has already been registered\n",
      "2024-04-02 03:20:32.667118: E external/local_xla/xla/stream_executor/cuda/cuda_blas.cc:1515] Unable to register cuBLAS factory: Attempting to register factory for plugin cuBLAS when one has already been registered\n"
     ]
    }
   ],
   "source": [
    "import pandas as pd\n",
    "import numpy as np\n",
    "from sklearn.model_selection import train_test_split\n",
    "from sklearn.linear_model import LinearRegression\n",
    "from sklearn.linear_model import LogisticRegression\n",
    "from sklearn.metrics import accuracy_score\n",
    "from sklearn.metrics import log_loss\n",
    "import sklearn\n",
    "import matplotlib.pyplot as plt\n",
    "import seaborn as sns\n",
    "from sklearn.ensemble import RandomForestClassifier, GradientBoostingClassifier\n",
    "from tensorflow.keras.models import Sequential\n",
    "from tensorflow.keras.layers import Dense\n",
    "from tensorflow.keras.utils import to_categorical\n",
    "from sklearn.preprocessing import StandardScaler\n",
    "from sklearn.neighbors import KNeighborsClassifier"
   ]
  },
  {
   "cell_type": "markdown",
   "id": "6083b260",
   "metadata": {
    "papermill": {
     "duration": 0.006772,
     "end_time": "2024-04-02T03:20:44.287194",
     "exception": false,
     "start_time": "2024-04-02T03:20:44.280422",
     "status": "completed"
    },
    "tags": []
   },
   "source": [
    "### Teams and Seasons"
   ]
  },
  {
   "cell_type": "code",
   "execution_count": 3,
   "id": "66febb75",
   "metadata": {
    "execution": {
     "iopub.execute_input": "2024-04-02T03:20:44.303857Z",
     "iopub.status.busy": "2024-04-02T03:20:44.303081Z",
     "iopub.status.idle": "2024-04-02T03:20:44.339227Z",
     "shell.execute_reply": "2024-04-02T03:20:44.338341Z"
    },
    "papermill": {
     "duration": 0.047524,
     "end_time": "2024-04-02T03:20:44.341788",
     "exception": false,
     "start_time": "2024-04-02T03:20:44.294264",
     "status": "completed"
    },
    "tags": []
   },
   "outputs": [],
   "source": [
    "teams_men = pd.read_csv(\"/kaggle/input/march-machine-learning-mania-2024/MTeams.csv\")\n",
    "teams_women = pd.read_csv(\"/kaggle/input/march-machine-learning-mania-2024/WTeams.csv\")\n",
    "\n",
    "seasons_men = pd.read_csv(\"/kaggle/input/march-machine-learning-mania-2024/MSeasons.csv\")\n",
    "seasons_women = pd.read_csv(\"/kaggle/input/march-machine-learning-mania-2024/WSeasons.csv\")"
   ]
  },
  {
   "cell_type": "markdown",
   "id": "8564fae4",
   "metadata": {
    "papermill": {
     "duration": 0.006779,
     "end_time": "2024-04-02T03:20:44.356223",
     "exception": false,
     "start_time": "2024-04-02T03:20:44.349444",
     "status": "completed"
    },
    "tags": []
   },
   "source": [
    "### Tournament Seeds and Results"
   ]
  },
  {
   "cell_type": "code",
   "execution_count": 4,
   "id": "1e4d51a8",
   "metadata": {
    "execution": {
     "iopub.execute_input": "2024-04-02T03:20:44.372544Z",
     "iopub.status.busy": "2024-04-02T03:20:44.371594Z",
     "iopub.status.idle": "2024-04-02T03:20:44.706701Z",
     "shell.execute_reply": "2024-04-02T03:20:44.705336Z"
    },
    "papermill": {
     "duration": 0.346291,
     "end_time": "2024-04-02T03:20:44.709675",
     "exception": false,
     "start_time": "2024-04-02T03:20:44.363384",
     "status": "completed"
    },
    "tags": []
   },
   "outputs": [],
   "source": [
    "tourney_seeds_2024 = pd.read_csv(\"/kaggle/input/march-machine-learning-mania-2024/2024_tourney_seeds.csv\")\n",
    "\n",
    "tournament_seeds_men = pd.read_csv(\"/kaggle/input/march-machine-learning-mania-2024/MNCAATourneySeeds.csv\")\n",
    "tournament_seeds_women = pd.read_csv(\"/kaggle/input/march-machine-learning-mania-2024/WNCAATourneySeeds.csv\")\n",
    "\n",
    "season_results_men = pd.read_csv(\"/kaggle/input/march-machine-learning-mania-2024/MRegularSeasonCompactResults.csv\")\n",
    "season_results_women = pd.read_csv(\"/kaggle/input/march-machine-learning-mania-2024/WRegularSeasonCompactResults.csv\")\n",
    "\n",
    "tournament_results_men = pd.read_csv(\"/kaggle/input/march-machine-learning-mania-2024/MNCAATourneyCompactResults.csv\")\n",
    "tournament_results_women = pd.read_csv(\"/kaggle/input/march-machine-learning-mania-2024/WNCAATourneyCompactResults.csv\")"
   ]
  },
  {
   "cell_type": "markdown",
   "id": "1bba7bea",
   "metadata": {
    "papermill": {
     "duration": 0.007496,
     "end_time": "2024-04-02T03:20:44.724872",
     "exception": false,
     "start_time": "2024-04-02T03:20:44.717376",
     "status": "completed"
    },
    "tags": []
   },
   "source": [
    "### Detailed Game Results"
   ]
  },
  {
   "cell_type": "code",
   "execution_count": 5,
   "id": "674b5e32",
   "metadata": {
    "execution": {
     "iopub.execute_input": "2024-04-02T03:20:44.743842Z",
     "iopub.status.busy": "2024-04-02T03:20:44.742573Z",
     "iopub.status.idle": "2024-04-02T03:20:45.548498Z",
     "shell.execute_reply": "2024-04-02T03:20:45.547179Z"
    },
    "papermill": {
     "duration": 0.817732,
     "end_time": "2024-04-02T03:20:45.551536",
     "exception": false,
     "start_time": "2024-04-02T03:20:44.733804",
     "status": "completed"
    },
    "tags": []
   },
   "outputs": [],
   "source": [
    "detailed_season_results_men = pd.read_csv(\"/kaggle/input/march-machine-learning-mania-2024/MRegularSeasonDetailedResults.csv\")\n",
    "detailed_season_results_women = pd.read_csv(\"/kaggle/input/march-machine-learning-mania-2024/WRegularSeasonDetailedResults.csv\")\n",
    "detailed_tournament_results_men = pd.read_csv(\"/kaggle/input/march-machine-learning-mania-2024/MNCAATourneyDetailedResults.csv\")\n",
    "detailed_tournament_results_women = pd.read_csv(\"/kaggle/input/march-machine-learning-mania-2024/WNCAATourneyDetailedResults.csv\")"
   ]
  },
  {
   "cell_type": "markdown",
   "id": "54746d4b",
   "metadata": {
    "papermill": {
     "duration": 0.007147,
     "end_time": "2024-04-02T03:20:45.566550",
     "exception": false,
     "start_time": "2024-04-02T03:20:45.559403",
     "status": "completed"
    },
    "tags": []
   },
   "source": [
    "### Geography"
   ]
  },
  {
   "cell_type": "code",
   "execution_count": 6,
   "id": "aeb805f4",
   "metadata": {
    "execution": {
     "iopub.execute_input": "2024-04-02T03:20:45.583711Z",
     "iopub.status.busy": "2024-04-02T03:20:45.583218Z",
     "iopub.status.idle": "2024-04-02T03:20:45.761809Z",
     "shell.execute_reply": "2024-04-02T03:20:45.760457Z"
    },
    "papermill": {
     "duration": 0.190535,
     "end_time": "2024-04-02T03:20:45.764714",
     "exception": false,
     "start_time": "2024-04-02T03:20:45.574179",
     "status": "completed"
    },
    "tags": []
   },
   "outputs": [],
   "source": [
    "game_cities = pd.read_csv(\"/kaggle/input/march-machine-learning-mania-2024/Cities.csv\")\n",
    "game_cities_men = pd.read_csv(\"/kaggle/input/march-machine-learning-mania-2024/MGameCities.csv\")\n",
    "game_cities_women = pd.read_csv(\"/kaggle/input/march-machine-learning-mania-2024/WGameCities.csv\")"
   ]
  },
  {
   "cell_type": "markdown",
   "id": "62bd6079",
   "metadata": {
    "papermill": {
     "duration": 0.007787,
     "end_time": "2024-04-02T03:20:45.780889",
     "exception": false,
     "start_time": "2024-04-02T03:20:45.773102",
     "status": "completed"
    },
    "tags": []
   },
   "source": [
    "### Public Rankings"
   ]
  },
  {
   "cell_type": "code",
   "execution_count": 7,
   "id": "7808ac52",
   "metadata": {
    "execution": {
     "iopub.execute_input": "2024-04-02T03:20:45.798152Z",
     "iopub.status.busy": "2024-04-02T03:20:45.797183Z",
     "iopub.status.idle": "2024-04-02T03:20:49.526849Z",
     "shell.execute_reply": "2024-04-02T03:20:49.525583Z"
    },
    "papermill": {
     "duration": 3.74153,
     "end_time": "2024-04-02T03:20:49.529876",
     "exception": false,
     "start_time": "2024-04-02T03:20:45.788346",
     "status": "completed"
    },
    "tags": []
   },
   "outputs": [],
   "source": [
    "mens_ranking = pd.read_csv(\"/kaggle/input/march-machine-learning-mania-2024/MMasseyOrdinals_thruSeason2024_day128.csv\")"
   ]
  },
  {
   "cell_type": "markdown",
   "id": "8ef61fd4",
   "metadata": {
    "papermill": {
     "duration": 0.007706,
     "end_time": "2024-04-02T03:20:49.545888",
     "exception": false,
     "start_time": "2024-04-02T03:20:49.538182",
     "status": "completed"
    },
    "tags": []
   },
   "source": [
    "### Supplemental Data"
   ]
  },
  {
   "cell_type": "code",
   "execution_count": 8,
   "id": "fe36963f",
   "metadata": {
    "execution": {
     "iopub.execute_input": "2024-04-02T03:20:49.563030Z",
     "iopub.status.busy": "2024-04-02T03:20:49.562549Z",
     "iopub.status.idle": "2024-04-02T03:20:49.693250Z",
     "shell.execute_reply": "2024-04-02T03:20:49.692280Z"
    },
    "papermill": {
     "duration": 0.142483,
     "end_time": "2024-04-02T03:20:49.696064",
     "exception": false,
     "start_time": "2024-04-02T03:20:49.553581",
     "status": "completed"
    },
    "tags": []
   },
   "outputs": [],
   "source": [
    "conference = pd.read_csv(\"/kaggle/input/march-machine-learning-mania-2024/Conferences.csv\")\n",
    "conference_men = pd.read_csv(\"/kaggle/input/march-machine-learning-mania-2024/MTeamConferences.csv\")\n",
    "conference_women = pd.read_csv(\"/kaggle/input/march-machine-learning-mania-2024/WTeamConferences.csv\")\n",
    "conference_tournaments_men = pd.read_csv(\"/kaggle/input/march-machine-learning-mania-2024/MConferenceTourneyGames.csv\")\n",
    "\n",
    "team_names_men = pd.read_csv(\"/kaggle/input/march-machine-learning-mania-2024/MTeamSpellings.csv\",encoding='cp1252')\n",
    "team_names_women = pd.read_csv(\"/kaggle/input/march-machine-learning-mania-2024/WTeamSpellings.csv\",encoding='cp1252')\n",
    "team_coaches_men = pd.read_csv(\"/kaggle/input/march-machine-learning-mania-2024/MTeamCoaches.csv\")\n",
    "\n",
    "tournament_seed_round_slots_men = pd.read_csv(\"/kaggle/input/march-machine-learning-mania-2024/MNCAATourneySeedRoundSlots.csv\")\n",
    "\n",
    "tournament_slots_men = pd.read_csv(\"/kaggle/input/march-machine-learning-mania-2024/MNCAATourneySlots.csv\")\n",
    "tournament_slots_women = pd.read_csv(\"/kaggle/input/march-machine-learning-mania-2024/WNCAATourneySlots.csv\")\n",
    "\n",
    "secondary_tournament_teams_men = pd.read_csv(\"/kaggle/input/march-machine-learning-mania-2024/MSecondaryTourneyTeams.csv\")\n",
    "secondary_tournaments_results_men= pd.read_csv(\"/kaggle/input/march-machine-learning-mania-2024/MSecondaryTourneyCompactResults.csv\",encoding='cp1252')\n",
    "\n",
    "sample_submission = pd.read_csv(\"/kaggle/input/march-machine-learning-mania-2024/sample_submission.csv\")\n"
   ]
  },
  {
   "cell_type": "markdown",
   "id": "15b60155",
   "metadata": {
    "papermill": {
     "duration": 0.006625,
     "end_time": "2024-04-02T03:20:49.710161",
     "exception": false,
     "start_time": "2024-04-02T03:20:49.703536",
     "status": "completed"
    },
    "tags": []
   },
   "source": [
    "### Feature Selection"
   ]
  },
  {
   "cell_type": "code",
   "execution_count": 9,
   "id": "73a6776b",
   "metadata": {
    "execution": {
     "iopub.execute_input": "2024-04-02T03:20:49.726649Z",
     "iopub.status.busy": "2024-04-02T03:20:49.726183Z",
     "iopub.status.idle": "2024-04-02T03:20:49.809530Z",
     "shell.execute_reply": "2024-04-02T03:20:49.808548Z"
    },
    "papermill": {
     "duration": 0.095346,
     "end_time": "2024-04-02T03:20:49.812562",
     "exception": false,
     "start_time": "2024-04-02T03:20:49.717216",
     "status": "completed"
    },
    "tags": []
   },
   "outputs": [],
   "source": [
    "combined_season_results = pd.concat([season_results_men, season_results_women])\n",
    "\n",
    "# Calculate win rates and score margins for women and men\n",
    "combined_season_results['win'] = np.ones(len(combined_season_results))\n",
    "win_rates = combined_season_results.groupby('WTeamID').size() / (combined_season_results.groupby('WTeamID').size() + combined_season_results.groupby('LTeamID').size())\n",
    "win_rates = win_rates.reset_index(name='WinRate')\n",
    "\n",
    "combined_season_results['ScoreMargin'] = combined_season_results['WScore'] - combined_season_results['LScore']\n",
    "avg_score_margin= combined_season_results.groupby('WTeamID')['ScoreMargin'].mean().reset_index(name='AvgScoreMargin')\n",
    "\n",
    "# Merge features with team IDs in tournament results for winning and losing teams\n",
    "combined_tournament_results = pd.concat([tournament_results_men, tournament_results_women])\n",
    "combined_tournament_results = combined_tournament_results.merge(win_rates, left_on='WTeamID', right_on='WTeamID', how='left')\n",
    "combined_tournament_results = combined_tournament_results.merge(avg_score_margin, left_on='WTeamID', right_on='WTeamID', how='left')\n",
    "\n",
    "# Prepare a combined dataset that includes both perspectives (winning and losing)\n",
    "combined_tournament_results['Outcome'] = 1  # Winning perspective\n",
    "combined_tournament_results_loss = combined_tournament_results.copy()\n",
    "#combined_tournament_results_loss['WTeamID'], combined_tournament_results_loss['LTeamID'] = combined_tournament_results_loss['LTeamID'], combined_tournament_results_loss['WTeamID']\n",
    "combined_tournament_results_loss[['WTeamID', 'LTeamID']] = combined_tournament_results_loss[['LTeamID', 'WTeamID']]\n",
    "\n",
    "combined_tournament_results_loss['Outcome'] = 0  # Losing perspective"
   ]
  },
  {
   "cell_type": "code",
   "execution_count": 10,
   "id": "18ac458b",
   "metadata": {
    "execution": {
     "iopub.execute_input": "2024-04-02T03:20:49.829712Z",
     "iopub.status.busy": "2024-04-02T03:20:49.829234Z",
     "iopub.status.idle": "2024-04-02T03:20:49.856112Z",
     "shell.execute_reply": "2024-04-02T03:20:49.853801Z"
    },
    "papermill": {
     "duration": 0.039628,
     "end_time": "2024-04-02T03:20:49.859784",
     "exception": false,
     "start_time": "2024-04-02T03:20:49.820156",
     "status": "completed"
    },
    "tags": []
   },
   "outputs": [
    {
     "data": {
      "text/html": [
       "<div>\n",
       "<style scoped>\n",
       "    .dataframe tbody tr th:only-of-type {\n",
       "        vertical-align: middle;\n",
       "    }\n",
       "\n",
       "    .dataframe tbody tr th {\n",
       "        vertical-align: top;\n",
       "    }\n",
       "\n",
       "    .dataframe thead th {\n",
       "        text-align: right;\n",
       "    }\n",
       "</style>\n",
       "<table border=\"1\" class=\"dataframe\">\n",
       "  <thead>\n",
       "    <tr style=\"text-align: right;\">\n",
       "      <th></th>\n",
       "      <th>Season</th>\n",
       "      <th>DayNum</th>\n",
       "      <th>WTeamID</th>\n",
       "      <th>WScore</th>\n",
       "      <th>LTeamID</th>\n",
       "      <th>LScore</th>\n",
       "      <th>WLoc</th>\n",
       "      <th>NumOT</th>\n",
       "      <th>WinRate</th>\n",
       "      <th>AvgScoreMargin</th>\n",
       "      <th>Outcome</th>\n",
       "    </tr>\n",
       "  </thead>\n",
       "  <tbody>\n",
       "    <tr>\n",
       "      <th>0</th>\n",
       "      <td>1985</td>\n",
       "      <td>136</td>\n",
       "      <td>1116</td>\n",
       "      <td>63</td>\n",
       "      <td>1234</td>\n",
       "      <td>54</td>\n",
       "      <td>N</td>\n",
       "      <td>0</td>\n",
       "      <td>0.640032</td>\n",
       "      <td>16.326608</td>\n",
       "      <td>1</td>\n",
       "    </tr>\n",
       "    <tr>\n",
       "      <th>1</th>\n",
       "      <td>1985</td>\n",
       "      <td>136</td>\n",
       "      <td>1120</td>\n",
       "      <td>59</td>\n",
       "      <td>1345</td>\n",
       "      <td>58</td>\n",
       "      <td>N</td>\n",
       "      <td>0</td>\n",
       "      <td>0.548739</td>\n",
       "      <td>13.891271</td>\n",
       "      <td>1</td>\n",
       "    </tr>\n",
       "    <tr>\n",
       "      <th>2</th>\n",
       "      <td>1985</td>\n",
       "      <td>136</td>\n",
       "      <td>1207</td>\n",
       "      <td>68</td>\n",
       "      <td>1250</td>\n",
       "      <td>43</td>\n",
       "      <td>N</td>\n",
       "      <td>0</td>\n",
       "      <td>0.605646</td>\n",
       "      <td>14.690678</td>\n",
       "      <td>1</td>\n",
       "    </tr>\n",
       "    <tr>\n",
       "      <th>3</th>\n",
       "      <td>1985</td>\n",
       "      <td>136</td>\n",
       "      <td>1229</td>\n",
       "      <td>58</td>\n",
       "      <td>1425</td>\n",
       "      <td>55</td>\n",
       "      <td>N</td>\n",
       "      <td>0</td>\n",
       "      <td>0.534728</td>\n",
       "      <td>10.755869</td>\n",
       "      <td>1</td>\n",
       "    </tr>\n",
       "    <tr>\n",
       "      <th>4</th>\n",
       "      <td>1985</td>\n",
       "      <td>136</td>\n",
       "      <td>1242</td>\n",
       "      <td>49</td>\n",
       "      <td>1325</td>\n",
       "      <td>38</td>\n",
       "      <td>N</td>\n",
       "      <td>0</td>\n",
       "      <td>0.805444</td>\n",
       "      <td>16.736581</td>\n",
       "      <td>1</td>\n",
       "    </tr>\n",
       "  </tbody>\n",
       "</table>\n",
       "</div>"
      ],
      "text/plain": [
       "   Season  DayNum  WTeamID  WScore  LTeamID  LScore WLoc  NumOT   WinRate  \\\n",
       "0    1985     136     1116      63     1234      54    N      0  0.640032   \n",
       "1    1985     136     1120      59     1345      58    N      0  0.548739   \n",
       "2    1985     136     1207      68     1250      43    N      0  0.605646   \n",
       "3    1985     136     1229      58     1425      55    N      0  0.534728   \n",
       "4    1985     136     1242      49     1325      38    N      0  0.805444   \n",
       "\n",
       "   AvgScoreMargin  Outcome  \n",
       "0       16.326608        1  \n",
       "1       13.891271        1  \n",
       "2       14.690678        1  \n",
       "3       10.755869        1  \n",
       "4       16.736581        1  "
      ]
     },
     "execution_count": 10,
     "metadata": {},
     "output_type": "execute_result"
    }
   ],
   "source": [
    "combined_data = pd.concat([combined_tournament_results, combined_tournament_results_loss])\n",
    "combined_data.head()"
   ]
  },
  {
   "cell_type": "code",
   "execution_count": 11,
   "id": "b972fb42",
   "metadata": {
    "execution": {
     "iopub.execute_input": "2024-04-02T03:20:49.876946Z",
     "iopub.status.busy": "2024-04-02T03:20:49.876024Z",
     "iopub.status.idle": "2024-04-02T03:20:49.895597Z",
     "shell.execute_reply": "2024-04-02T03:20:49.894703Z"
    },
    "papermill": {
     "duration": 0.030565,
     "end_time": "2024-04-02T03:20:49.897723",
     "exception": false,
     "start_time": "2024-04-02T03:20:49.867158",
     "status": "completed"
    },
    "tags": []
   },
   "outputs": [
    {
     "data": {
      "text/html": [
       "<div>\n",
       "<style scoped>\n",
       "    .dataframe tbody tr th:only-of-type {\n",
       "        vertical-align: middle;\n",
       "    }\n",
       "\n",
       "    .dataframe tbody tr th {\n",
       "        vertical-align: top;\n",
       "    }\n",
       "\n",
       "    .dataframe thead th {\n",
       "        text-align: right;\n",
       "    }\n",
       "</style>\n",
       "<table border=\"1\" class=\"dataframe\">\n",
       "  <thead>\n",
       "    <tr style=\"text-align: right;\">\n",
       "      <th></th>\n",
       "      <th>Season</th>\n",
       "      <th>DayNum</th>\n",
       "      <th>WTeamID</th>\n",
       "      <th>WScore</th>\n",
       "      <th>LTeamID</th>\n",
       "      <th>LScore</th>\n",
       "      <th>WLoc</th>\n",
       "      <th>NumOT</th>\n",
       "      <th>WinRate</th>\n",
       "      <th>AvgScoreMargin</th>\n",
       "      <th>Outcome</th>\n",
       "    </tr>\n",
       "  </thead>\n",
       "  <tbody>\n",
       "    <tr>\n",
       "      <th>2251</th>\n",
       "      <td>2021</td>\n",
       "      <td>136</td>\n",
       "      <td>1179</td>\n",
       "      <td>53</td>\n",
       "      <td>1455</td>\n",
       "      <td>52</td>\n",
       "      <td>N</td>\n",
       "      <td>0</td>\n",
       "      <td>0.456971</td>\n",
       "      <td>11.122411</td>\n",
       "      <td>1</td>\n",
       "    </tr>\n",
       "    <tr>\n",
       "      <th>2252</th>\n",
       "      <td>2021</td>\n",
       "      <td>136</td>\n",
       "      <td>1313</td>\n",
       "      <td>54</td>\n",
       "      <td>1111</td>\n",
       "      <td>53</td>\n",
       "      <td>N</td>\n",
       "      <td>0</td>\n",
       "      <td>0.498731</td>\n",
       "      <td>10.376590</td>\n",
       "      <td>1</td>\n",
       "    </tr>\n",
       "    <tr>\n",
       "      <th>2253</th>\n",
       "      <td>2021</td>\n",
       "      <td>136</td>\n",
       "      <td>1411</td>\n",
       "      <td>60</td>\n",
       "      <td>1291</td>\n",
       "      <td>52</td>\n",
       "      <td>N</td>\n",
       "      <td>0</td>\n",
       "      <td>0.474783</td>\n",
       "      <td>11.177656</td>\n",
       "      <td>1</td>\n",
       "    </tr>\n",
       "    <tr>\n",
       "      <th>2254</th>\n",
       "      <td>2021</td>\n",
       "      <td>136</td>\n",
       "      <td>1417</td>\n",
       "      <td>86</td>\n",
       "      <td>1277</td>\n",
       "      <td>80</td>\n",
       "      <td>N</td>\n",
       "      <td>1</td>\n",
       "      <td>0.678161</td>\n",
       "      <td>13.468523</td>\n",
       "      <td>1</td>\n",
       "    </tr>\n",
       "    <tr>\n",
       "      <th>2255</th>\n",
       "      <td>2021</td>\n",
       "      <td>137</td>\n",
       "      <td>1116</td>\n",
       "      <td>85</td>\n",
       "      <td>1159</td>\n",
       "      <td>68</td>\n",
       "      <td>N</td>\n",
       "      <td>0</td>\n",
       "      <td>0.640032</td>\n",
       "      <td>16.326608</td>\n",
       "      <td>1</td>\n",
       "    </tr>\n",
       "  </tbody>\n",
       "</table>\n",
       "</div>"
      ],
      "text/plain": [
       "      Season  DayNum  WTeamID  WScore  LTeamID  LScore WLoc  NumOT   WinRate  \\\n",
       "2251    2021     136     1179      53     1455      52    N      0  0.456971   \n",
       "2252    2021     136     1313      54     1111      53    N      0  0.498731   \n",
       "2253    2021     136     1411      60     1291      52    N      0  0.474783   \n",
       "2254    2021     136     1417      86     1277      80    N      1  0.678161   \n",
       "2255    2021     137     1116      85     1159      68    N      0  0.640032   \n",
       "\n",
       "      AvgScoreMargin  Outcome  \n",
       "2251       11.122411        1  \n",
       "2252       10.376590        1  \n",
       "2253       11.177656        1  \n",
       "2254       13.468523        1  \n",
       "2255       16.326608        1  "
      ]
     },
     "execution_count": 11,
     "metadata": {},
     "output_type": "execute_result"
    }
   ],
   "source": [
    "recent_season = combined_data[(combined_data['Season'] == 2023) | (combined_data['Season'] == 2022) | (combined_data['Season'] == 2021)]\n",
    "recent_season.head()"
   ]
  },
  {
   "cell_type": "code",
   "execution_count": 12,
   "id": "96097a6f",
   "metadata": {
    "execution": {
     "iopub.execute_input": "2024-04-02T03:20:49.915406Z",
     "iopub.status.busy": "2024-04-02T03:20:49.914605Z",
     "iopub.status.idle": "2024-04-02T03:20:49.929614Z",
     "shell.execute_reply": "2024-04-02T03:20:49.928563Z"
    },
    "papermill": {
     "duration": 0.025998,
     "end_time": "2024-04-02T03:20:49.931723",
     "exception": false,
     "start_time": "2024-04-02T03:20:49.905725",
     "status": "completed"
    },
    "tags": []
   },
   "outputs": [
    {
     "data": {
      "text/html": [
       "<div>\n",
       "<style scoped>\n",
       "    .dataframe tbody tr th:only-of-type {\n",
       "        vertical-align: middle;\n",
       "    }\n",
       "\n",
       "    .dataframe tbody tr th {\n",
       "        vertical-align: top;\n",
       "    }\n",
       "\n",
       "    .dataframe thead th {\n",
       "        text-align: right;\n",
       "    }\n",
       "</style>\n",
       "<table border=\"1\" class=\"dataframe\">\n",
       "  <thead>\n",
       "    <tr style=\"text-align: right;\">\n",
       "      <th></th>\n",
       "      <th>WTeamID</th>\n",
       "      <th>LTeamID</th>\n",
       "      <th>WinRate</th>\n",
       "      <th>AvgScoreMargin</th>\n",
       "    </tr>\n",
       "  </thead>\n",
       "  <tbody>\n",
       "    <tr>\n",
       "      <th>2251</th>\n",
       "      <td>1179</td>\n",
       "      <td>1455</td>\n",
       "      <td>0.456971</td>\n",
       "      <td>11.122411</td>\n",
       "    </tr>\n",
       "    <tr>\n",
       "      <th>2252</th>\n",
       "      <td>1313</td>\n",
       "      <td>1111</td>\n",
       "      <td>0.498731</td>\n",
       "      <td>10.376590</td>\n",
       "    </tr>\n",
       "    <tr>\n",
       "      <th>2253</th>\n",
       "      <td>1411</td>\n",
       "      <td>1291</td>\n",
       "      <td>0.474783</td>\n",
       "      <td>11.177656</td>\n",
       "    </tr>\n",
       "    <tr>\n",
       "      <th>2254</th>\n",
       "      <td>1417</td>\n",
       "      <td>1277</td>\n",
       "      <td>0.678161</td>\n",
       "      <td>13.468523</td>\n",
       "    </tr>\n",
       "    <tr>\n",
       "      <th>2255</th>\n",
       "      <td>1116</td>\n",
       "      <td>1159</td>\n",
       "      <td>0.640032</td>\n",
       "      <td>16.326608</td>\n",
       "    </tr>\n",
       "    <tr>\n",
       "      <th>...</th>\n",
       "      <td>...</td>\n",
       "      <td>...</td>\n",
       "      <td>...</td>\n",
       "      <td>...</td>\n",
       "    </tr>\n",
       "    <tr>\n",
       "      <th>4029</th>\n",
       "      <td>3268</td>\n",
       "      <td>3376</td>\n",
       "      <td>0.689356</td>\n",
       "      <td>21.901257</td>\n",
       "    </tr>\n",
       "    <tr>\n",
       "      <th>4030</th>\n",
       "      <td>3326</td>\n",
       "      <td>3439</td>\n",
       "      <td>0.595745</td>\n",
       "      <td>17.012605</td>\n",
       "    </tr>\n",
       "    <tr>\n",
       "      <th>4031</th>\n",
       "      <td>3376</td>\n",
       "      <td>3234</td>\n",
       "      <td>0.660074</td>\n",
       "      <td>15.764045</td>\n",
       "    </tr>\n",
       "    <tr>\n",
       "      <th>4032</th>\n",
       "      <td>3439</td>\n",
       "      <td>3261</td>\n",
       "      <td>0.701493</td>\n",
       "      <td>20.054965</td>\n",
       "    </tr>\n",
       "    <tr>\n",
       "      <th>4033</th>\n",
       "      <td>3234</td>\n",
       "      <td>3261</td>\n",
       "      <td>0.701493</td>\n",
       "      <td>20.054965</td>\n",
       "    </tr>\n",
       "  </tbody>\n",
       "</table>\n",
       "<p>794 rows × 4 columns</p>\n",
       "</div>"
      ],
      "text/plain": [
       "      WTeamID  LTeamID   WinRate  AvgScoreMargin\n",
       "2251     1179     1455  0.456971       11.122411\n",
       "2252     1313     1111  0.498731       10.376590\n",
       "2253     1411     1291  0.474783       11.177656\n",
       "2254     1417     1277  0.678161       13.468523\n",
       "2255     1116     1159  0.640032       16.326608\n",
       "...       ...      ...       ...             ...\n",
       "4029     3268     3376  0.689356       21.901257\n",
       "4030     3326     3439  0.595745       17.012605\n",
       "4031     3376     3234  0.660074       15.764045\n",
       "4032     3439     3261  0.701493       20.054965\n",
       "4033     3234     3261  0.701493       20.054965\n",
       "\n",
       "[794 rows x 4 columns]"
      ]
     },
     "execution_count": 12,
     "metadata": {},
     "output_type": "execute_result"
    }
   ],
   "source": [
    "# features = ['WinRate', 'AvgScoreMargin']\n",
    "#X = season_2023.drop(['Outcome', 'WLoc','DayNum', 'WScore','LScore', 'NumOT'], axis=1)\n",
    "#y = season_2023['Outcome']\n",
    "X= recent_season.drop(['Season','Outcome', 'WLoc','DayNum', 'WScore','LScore', 'NumOT'], axis=1)\n",
    "y = recent_season['Outcome']\n",
    "X"
   ]
  },
  {
   "cell_type": "code",
   "execution_count": 13,
   "id": "7ea3a59b",
   "metadata": {
    "execution": {
     "iopub.execute_input": "2024-04-02T03:20:49.949579Z",
     "iopub.status.busy": "2024-04-02T03:20:49.948734Z",
     "iopub.status.idle": "2024-04-02T03:20:49.964805Z",
     "shell.execute_reply": "2024-04-02T03:20:49.963892Z"
    },
    "papermill": {
     "duration": 0.027661,
     "end_time": "2024-04-02T03:20:49.967217",
     "exception": false,
     "start_time": "2024-04-02T03:20:49.939556",
     "status": "completed"
    },
    "tags": []
   },
   "outputs": [],
   "source": [
    "# Train-test split\n",
    "\n",
    "X_train, X_test, y_train, y_test = train_test_split(X, y, test_size = 0.2, random_state = 42) \n",
    "\n",
    "# Feature scaling\n",
    "scaler = StandardScaler()\n",
    "X_train_scaled = scaler.fit_transform(X_train)\n",
    "X_test_scaled = scaler.transform(X_test)"
   ]
  },
  {
   "cell_type": "code",
   "execution_count": 14,
   "id": "61e1dff9",
   "metadata": {
    "execution": {
     "iopub.execute_input": "2024-04-02T03:20:49.985448Z",
     "iopub.status.busy": "2024-04-02T03:20:49.984395Z",
     "iopub.status.idle": "2024-04-02T03:20:50.007220Z",
     "shell.execute_reply": "2024-04-02T03:20:50.006226Z"
    },
    "papermill": {
     "duration": 0.034617,
     "end_time": "2024-04-02T03:20:50.009801",
     "exception": false,
     "start_time": "2024-04-02T03:20:49.975184",
     "status": "completed"
    },
    "tags": []
   },
   "outputs": [
    {
     "name": "stdout",
     "output_type": "stream",
     "text": [
      "Logistic Regression - Accuracy: 0.41509433962264153\n"
     ]
    }
   ],
   "source": [
    "# Logistic Regression\n",
    "log_reg_model = LogisticRegression()\n",
    "log_reg_model.fit(X_train_scaled, y_train)\n",
    "y_pred_log_reg = log_reg_model.predict(X_test_scaled)\n",
    "print(\"Logistic Regression - Accuracy:\", accuracy_score(y_test, y_pred_log_reg))\n"
   ]
  },
  {
   "cell_type": "code",
   "execution_count": 15,
   "id": "984cbf2b",
   "metadata": {
    "execution": {
     "iopub.execute_input": "2024-04-02T03:20:50.027915Z",
     "iopub.status.busy": "2024-04-02T03:20:50.027206Z",
     "iopub.status.idle": "2024-04-02T03:20:50.295470Z",
     "shell.execute_reply": "2024-04-02T03:20:50.294105Z"
    },
    "papermill": {
     "duration": 0.280329,
     "end_time": "2024-04-02T03:20:50.298190",
     "exception": false,
     "start_time": "2024-04-02T03:20:50.017861",
     "status": "completed"
    },
    "tags": []
   },
   "outputs": [
    {
     "name": "stdout",
     "output_type": "stream",
     "text": [
      "Random Forest - Accuracy: 0.7547169811320755\n"
     ]
    }
   ],
   "source": [
    "# Random Forest\n",
    "rf_model = RandomForestClassifier(n_estimators=100, random_state=42)\n",
    "rf_model.fit(X_train, y_train)\n",
    "y_pred_rf = rf_model.predict(X_test)\n",
    "print(\"Random Forest - Accuracy:\", accuracy_score(y_test, y_pred_rf))"
   ]
  },
  {
   "cell_type": "code",
   "execution_count": 16,
   "id": "d69ed1b2",
   "metadata": {
    "execution": {
     "iopub.execute_input": "2024-04-02T03:20:50.317195Z",
     "iopub.status.busy": "2024-04-02T03:20:50.316397Z",
     "iopub.status.idle": "2024-04-02T03:20:50.464660Z",
     "shell.execute_reply": "2024-04-02T03:20:50.463264Z"
    },
    "papermill": {
     "duration": 0.160778,
     "end_time": "2024-04-02T03:20:50.467429",
     "exception": false,
     "start_time": "2024-04-02T03:20:50.306651",
     "status": "completed"
    },
    "tags": []
   },
   "outputs": [
    {
     "name": "stdout",
     "output_type": "stream",
     "text": [
      "Gradient Boosting - Accuracy: 0.6729559748427673\n"
     ]
    }
   ],
   "source": [
    "#Gradient Boosting\n",
    "gb_model = GradientBoostingClassifier(n_estimators=100, random_state=42)\n",
    "gb_model.fit(X_train, y_train)\n",
    "y_pred_gb = gb_model.predict(X_test)\n",
    "print(\"Gradient Boosting - Accuracy:\", accuracy_score(y_test, y_pred_gb))\n"
   ]
  },
  {
   "cell_type": "code",
   "execution_count": 17,
   "id": "2e07fb32",
   "metadata": {
    "execution": {
     "iopub.execute_input": "2024-04-02T03:20:50.486859Z",
     "iopub.status.busy": "2024-04-02T03:20:50.486062Z",
     "iopub.status.idle": "2024-04-02T03:20:50.509667Z",
     "shell.execute_reply": "2024-04-02T03:20:50.508135Z"
    },
    "papermill": {
     "duration": 0.03646,
     "end_time": "2024-04-02T03:20:50.512398",
     "exception": false,
     "start_time": "2024-04-02T03:20:50.475938",
     "status": "completed"
    },
    "tags": []
   },
   "outputs": [
    {
     "name": "stdout",
     "output_type": "stream",
     "text": [
      "K-NN - Accuracy: 0.5786163522012578\n"
     ]
    }
   ],
   "source": [
    "# KNN\n",
    "knn_model = KNeighborsClassifier(n_neighbors=4)\n",
    "knn_model.fit(X_train_scaled, y_train)\n",
    "y_pred_knn = knn_model.predict(X_test_scaled)\n",
    "print(\"K-NN - Accuracy:\", accuracy_score(y_test, y_pred_knn))"
   ]
  },
  {
   "cell_type": "code",
   "execution_count": 18,
   "id": "cb94a916",
   "metadata": {
    "execution": {
     "iopub.execute_input": "2024-04-02T03:20:50.533120Z",
     "iopub.status.busy": "2024-04-02T03:20:50.532645Z",
     "iopub.status.idle": "2024-04-02T03:20:50.548962Z",
     "shell.execute_reply": "2024-04-02T03:20:50.547940Z"
    },
    "papermill": {
     "duration": 0.029589,
     "end_time": "2024-04-02T03:20:50.552107",
     "exception": false,
     "start_time": "2024-04-02T03:20:50.522518",
     "status": "completed"
    },
    "tags": []
   },
   "outputs": [
    {
     "data": {
      "text/html": [
       "<div>\n",
       "<style scoped>\n",
       "    .dataframe tbody tr th:only-of-type {\n",
       "        vertical-align: middle;\n",
       "    }\n",
       "\n",
       "    .dataframe tbody tr th {\n",
       "        vertical-align: top;\n",
       "    }\n",
       "\n",
       "    .dataframe thead th {\n",
       "        text-align: right;\n",
       "    }\n",
       "</style>\n",
       "<table border=\"1\" class=\"dataframe\">\n",
       "  <thead>\n",
       "    <tr style=\"text-align: right;\">\n",
       "      <th></th>\n",
       "      <th>Season</th>\n",
       "      <th>Slot</th>\n",
       "      <th>StrongSeed</th>\n",
       "      <th>WeakSeed</th>\n",
       "    </tr>\n",
       "  </thead>\n",
       "  <tbody>\n",
       "    <tr>\n",
       "      <th>2452</th>\n",
       "      <td>2024</td>\n",
       "      <td>R1W1</td>\n",
       "      <td>W01</td>\n",
       "      <td>W16</td>\n",
       "    </tr>\n",
       "    <tr>\n",
       "      <th>2453</th>\n",
       "      <td>2024</td>\n",
       "      <td>R1W2</td>\n",
       "      <td>W02</td>\n",
       "      <td>W15</td>\n",
       "    </tr>\n",
       "    <tr>\n",
       "      <th>2454</th>\n",
       "      <td>2024</td>\n",
       "      <td>R1W3</td>\n",
       "      <td>W03</td>\n",
       "      <td>W14</td>\n",
       "    </tr>\n",
       "    <tr>\n",
       "      <th>2455</th>\n",
       "      <td>2024</td>\n",
       "      <td>R1W4</td>\n",
       "      <td>W04</td>\n",
       "      <td>W13</td>\n",
       "    </tr>\n",
       "    <tr>\n",
       "      <th>2456</th>\n",
       "      <td>2024</td>\n",
       "      <td>R1W5</td>\n",
       "      <td>W05</td>\n",
       "      <td>W12</td>\n",
       "    </tr>\n",
       "  </tbody>\n",
       "</table>\n",
       "</div>"
      ],
      "text/plain": [
       "      Season  Slot StrongSeed WeakSeed\n",
       "2452    2024  R1W1        W01      W16\n",
       "2453    2024  R1W2        W02      W15\n",
       "2454    2024  R1W3        W03      W14\n",
       "2455    2024  R1W4        W04      W13\n",
       "2456    2024  R1W5        W05      W12"
      ]
     },
     "execution_count": 18,
     "metadata": {},
     "output_type": "execute_result"
    }
   ],
   "source": [
    "combined_tourney_slots_2024 = pd.concat([tournament_slots_men[tournament_slots_men['Season']==2024],tournament_slots_women[tournament_slots_women['Season']==2024]])\n",
    "combined_tourney_slots_2024 = combined_tourney_slots_2024[combined_tourney_slots_2024['Slot'].str.startswith('R')]\n",
    "combined_tourney_slots_2024.head()\n"
   ]
  },
  {
   "cell_type": "code",
   "execution_count": 19,
   "id": "63627815",
   "metadata": {
    "execution": {
     "iopub.execute_input": "2024-04-02T03:20:50.572163Z",
     "iopub.status.busy": "2024-04-02T03:20:50.570852Z",
     "iopub.status.idle": "2024-04-02T03:20:50.578256Z",
     "shell.execute_reply": "2024-04-02T03:20:50.577371Z"
    },
    "papermill": {
     "duration": 0.019585,
     "end_time": "2024-04-02T03:20:50.580333",
     "exception": false,
     "start_time": "2024-04-02T03:20:50.560748",
     "status": "completed"
    },
    "tags": []
   },
   "outputs": [],
   "source": [
    "def predict_matchup(team1_id, team2_id, rf_model, features_df):\n",
    "    # Extract features for team1 and team2\n",
    "    team1_row = features_df.loc[features_df['TeamID'] == team1_id]\n",
    "    team2_row = features_df.loc[features_df['TeamID'] == team2_id]\n",
    "\n",
    "    # Create a DataFrame with the same structure as the one used in training\n",
    "    # The order of the columns should be the same as during the model training\n",
    "    matchup_features = pd.DataFrame({\n",
    "        'WTeamID': team1_row['TeamID'].values,  # Assuming team1 is treated as WTeam\n",
    "        'LTeamID': team2_row['TeamID'].values,  # Assuming team2 is treated as LTeam\n",
    "        'WinRate': team1_row['WinRate'].values,  # Assuming the WinRate of WTeam is used\n",
    "        'AvgScoreMargin': team1_row['AvgScoreMargin'].values  # Assuming the AvgScoreMargin of WTeam is used\n",
    "    })\n",
    "    \n",
    "    # Predict the outcome using the rf_model\n",
    "    prediction = rf_model.predict(matchup_features)\n",
    "    \n",
    "    return team1_id if prediction == 1 else team2_id\n"
   ]
  },
  {
   "cell_type": "code",
   "execution_count": 20,
   "id": "203888c1",
   "metadata": {
    "execution": {
     "iopub.execute_input": "2024-04-02T03:20:50.599972Z",
     "iopub.status.busy": "2024-04-02T03:20:50.599001Z",
     "iopub.status.idle": "2024-04-02T03:20:50.671539Z",
     "shell.execute_reply": "2024-04-02T03:20:50.670353Z"
    },
    "papermill": {
     "duration": 0.085428,
     "end_time": "2024-04-02T03:20:50.674431",
     "exception": false,
     "start_time": "2024-04-02T03:20:50.589003",
     "status": "completed"
    },
    "tags": []
   },
   "outputs": [],
   "source": [
    "# Calculate win rates\n",
    "win_counts = combined_season_results.groupby('WTeamID').size().reset_index(name='wins')\n",
    "loss_counts = combined_season_results.groupby('LTeamID').size().reset_index(name='losses')\n",
    "\n",
    "# Ensure the team ID columns are uniformly named for merging\n",
    "win_counts.rename(columns={'WTeamID': 'TeamID'}, inplace=True)\n",
    "loss_counts.rename(columns={'LTeamID': 'TeamID'}, inplace=True)\n",
    "\n",
    "total_games = pd.merge(win_counts, loss_counts, on='TeamID', how='outer').fillna(0)\n",
    "total_games['total_games'] = total_games['wins'] + total_games['losses']\n",
    "total_games['WinRate'] = total_games['wins'] / total_games['total_games']\n",
    "\n",
    "# Calculate average score margins\n",
    "win_margins = combined_season_results.groupby('WTeamID').agg(win_margin=('ScoreMargin', 'mean')).reset_index()\n",
    "win_margins.rename(columns={'WTeamID': 'TeamID'}, inplace=True)\n",
    "\n",
    "# For loss margins, calculate the mean difference directly. Note that 'ScoreMargin' needs to be calculated if not already\n",
    "loss_margins = combined_season_results.groupby('LTeamID').agg(loss_margin=('ScoreMargin', 'mean')).reset_index()\n",
    "loss_margins['loss_margin'] = -loss_margins['loss_margin']  # Invert the margin for losses\n",
    "loss_margins.rename(columns={'LTeamID': 'TeamID'}, inplace=True)\n",
    "\n",
    "# Merge win and loss margins and calculate the average\n",
    "margins = pd.merge(win_margins, loss_margins, on='TeamID', how='outer').fillna(0)\n",
    "margins['AvgScoreMargin'] = (margins['win_margin'] + margins['loss_margin']) / 2\n",
    "\n",
    "# Merge win rates and average score margins\n",
    "features_df = pd.merge(total_games[['TeamID', 'WinRate']], margins[['TeamID', 'AvgScoreMargin']], on='TeamID', how='outer').fillna(0)"
   ]
  },
  {
   "cell_type": "code",
   "execution_count": 21,
   "id": "38c78403",
   "metadata": {
    "execution": {
     "iopub.execute_input": "2024-04-02T03:20:50.693840Z",
     "iopub.status.busy": "2024-04-02T03:20:50.693358Z",
     "iopub.status.idle": "2024-04-02T03:20:50.699193Z",
     "shell.execute_reply": "2024-04-02T03:20:50.698110Z"
    },
    "papermill": {
     "duration": 0.017883,
     "end_time": "2024-04-02T03:20:50.701266",
     "exception": false,
     "start_time": "2024-04-02T03:20:50.683383",
     "status": "completed"
    },
    "tags": []
   },
   "outputs": [],
   "source": [
    "seed_to_team_id = dict(zip(tourney_seeds_2024['Seed'], tourney_seeds_2024['TeamID']))"
   ]
  },
  {
   "cell_type": "code",
   "execution_count": 22,
   "id": "47b2f57f",
   "metadata": {
    "execution": {
     "iopub.execute_input": "2024-04-02T03:20:50.720557Z",
     "iopub.status.busy": "2024-04-02T03:20:50.720073Z",
     "iopub.status.idle": "2024-04-02T03:20:51.738786Z",
     "shell.execute_reply": "2024-04-02T03:20:51.737791Z"
    },
    "papermill": {
     "duration": 1.031791,
     "end_time": "2024-04-02T03:20:51.741678",
     "exception": false,
     "start_time": "2024-04-02T03:20:50.709887",
     "status": "completed"
    },
    "tags": []
   },
   "outputs": [],
   "source": [
    "winners = {}  # Dictionary to track winners of each slot\n",
    "\n",
    "for index, row in combined_tourney_slots_2024.iterrows():\n",
    "    slot = row['Slot']\n",
    "    strong_seed = row['StrongSeed']\n",
    "    weak_seed = row['WeakSeed']\n",
    "    \n",
    "    team1_id = seed_to_team_id[strong_seed] if strong_seed in seed_to_team_id else winners[strong_seed]\n",
    "    team2_id = seed_to_team_id[weak_seed] if weak_seed in seed_to_team_id else winners[weak_seed]\n",
    "    \n",
    "    winning_team_id = predict_matchup(team1_id, team2_id, rf_model, features_df)\n",
    "    \n",
    "    winners[slot] = winning_team_id\n",
    "    "
   ]
  },
  {
   "cell_type": "code",
   "execution_count": 23,
   "id": "cd785704",
   "metadata": {
    "execution": {
     "iopub.execute_input": "2024-04-02T03:20:51.763315Z",
     "iopub.status.busy": "2024-04-02T03:20:51.762807Z",
     "iopub.status.idle": "2024-04-02T03:20:51.786175Z",
     "shell.execute_reply": "2024-04-02T03:20:51.785061Z"
    },
    "papermill": {
     "duration": 0.037946,
     "end_time": "2024-04-02T03:20:51.788859",
     "exception": false,
     "start_time": "2024-04-02T03:20:51.750913",
     "status": "completed"
    },
    "tags": []
   },
   "outputs": [],
   "source": [
    "team_id_to_seed = {team_id: seed for seed, team_id in seed_to_team_id.items()}\n",
    "\n",
    "submission_data = []\n",
    "for index, row in combined_tourney_slots_2024.iterrows():\n",
    "    slot = row['Slot']\n",
    "    if slot.startswith('R'):\n",
    "        team_id = winners.get(slot, '')\n",
    "        seed = team_id_to_seed.get(team_id, '')\n",
    "        submission_data.append(['M', 1, slot, seed])\n",
    "\n",
    "submission_df = pd.DataFrame(submission_data, columns=['Tournament', 'Bracket', 'Slot', 'Team'])\n",
    "submission_df.insert(0, 'RowId', range(1, len(submission_df) + 1))\n",
    "\n",
    "women_index = len(submission_df)//2\n",
    "submission_df.loc[women_index:, 'Tournament'] = 'W'\n",
    "    \n",
    "submission_df.to_csv('submission.csv', index=False)"
   ]
  }
 ],
 "metadata": {
  "kaggle": {
   "accelerator": "none",
   "dataSources": [
    {
     "databundleVersionId": 8023814,
     "sourceId": 70068,
     "sourceType": "competition"
    }
   ],
   "dockerImageVersionId": 30664,
   "isGpuEnabled": false,
   "isInternetEnabled": true,
   "language": "python",
   "sourceType": "notebook"
  },
  "kernelspec": {
   "display_name": "Python 3",
   "language": "python",
   "name": "python3"
  },
  "language_info": {
   "codemirror_mode": {
    "name": "ipython",
    "version": 3
   },
   "file_extension": ".py",
   "mimetype": "text/x-python",
   "name": "python",
   "nbconvert_exporter": "python",
   "pygments_lexer": "ipython3",
   "version": "3.10.13"
  },
  "papermill": {
   "default_parameters": {},
   "duration": 30.122678,
   "end_time": "2024-04-02T03:20:54.203160",
   "environment_variables": {},
   "exception": null,
   "input_path": "__notebook__.ipynb",
   "output_path": "__notebook__.ipynb",
   "parameters": {},
   "start_time": "2024-04-02T03:20:24.080482",
   "version": "2.5.0"
  }
 },
 "nbformat": 4,
 "nbformat_minor": 5
}
